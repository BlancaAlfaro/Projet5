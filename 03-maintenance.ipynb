{
 "cells": [
  {
   "cell_type": "code",
   "execution_count": 8,
   "metadata": {},
   "outputs": [],
   "source": [
    "import pandas as pd\n",
    "import missingno as msno\n",
    "import seaborn as sns\n",
    "import matplotlib.pyplot as plt\n",
    "import plotly.express as px\n",
    "import plotly.graph_objects as go\n",
    "from sklearn.preprocessing import StandardScaler\n",
    "from sklearn.cluster import KMeans,AgglomerativeClustering,DBSCAN\n",
    "from sklearn.pipeline import Pipeline\n",
    "\n",
    "from sklearn.metrics import silhouette_score, calinski_harabasz_score,rand_score,adjusted_rand_score\n",
    "from yellowbrick.cluster import KElbowVisualizer"
   ]
  },
  {
   "cell_type": "markdown",
   "metadata": {},
   "source": [
    "Le clustering se fera avec KMeans avec 4 clusters."
   ]
  },
  {
   "cell_type": "markdown",
   "metadata": {},
   "source": [
    "#### Essai 2 - Injection des clients au fur et à mesure des commandes"
   ]
  },
  {
   "cell_type": "code",
   "execution_count": 47,
   "metadata": {},
   "outputs": [],
   "source": [
    "customers_concat=pd.read_csv(\"data/saved_data/customers_concat.csv\")"
   ]
  },
  {
   "cell_type": "code",
   "execution_count": 48,
   "metadata": {},
   "outputs": [
    {
     "data": {
      "text/plain": [
       "Index(['customer_id', 'customer_unique_id', 'customer_zip_code_prefix',\n",
       "       'customer_city', 'customer_state', 'order_id', 'order_item_id',\n",
       "       'product_id', 'seller_id', 'shipping_limit_date', 'price',\n",
       "       'freight_value', 'product_category_name', 'product_name_lenght',\n",
       "       'product_description_lenght', 'product_photos_qty', 'product_weight_g',\n",
       "       'product_length_cm', 'product_height_cm', 'product_width_cm',\n",
       "       'seller_zip_code_prefix', 'seller_city', 'seller_state', 'order_status',\n",
       "       'order_purchase_timestamp', 'order_approved_at',\n",
       "       'order_delivered_carrier_date', 'order_delivered_customer_date',\n",
       "       'order_estimated_delivery_date', 'payment_sequential', 'payment_type',\n",
       "       'payment_installments', 'payment_value', 'review_id', 'review_score',\n",
       "       'review_comment_title', 'review_comment_message',\n",
       "       'review_creation_date', 'review_answer_timestamp'],\n",
       "      dtype='object')"
      ]
     },
     "execution_count": 48,
     "metadata": {},
     "output_type": "execute_result"
    }
   ],
   "source": [
    "customers_concat.columns"
   ]
  },
  {
   "cell_type": "code",
   "execution_count": 69,
   "metadata": {},
   "outputs": [
    {
     "data": {
      "image/png": "[encoded data removed]",
      "text/plain": [
       "<Figure size 800x550 with 1 Axes>"
      ]
     },
     "metadata": {},
     "output_type": "display_data"
    }
   ],
   "source": [
    "#Visualisation des dates de commande pour déterminer la date pour le premier modèle\n",
    "sns.histplot(customers_concat['order_purchase_timestamp'])\n",
    "plt.show()"
   ]
  },
  {
   "cell_type": "code",
   "execution_count": 77,
   "metadata": {},
   "outputs": [
    {
     "data": {
      "text/plain": [
       "count                           119143\n",
       "mean     2017-12-29 18:36:13.115760384\n",
       "min                2016-09-04 21:15:19\n",
       "25%                2017-09-10 20:15:46\n",
       "50%                2018-01-17 11:59:12\n",
       "75%                2018-05-03 13:18:30\n",
       "max                2018-10-17 17:30:18\n",
       "Name: order_purchase_timestamp, dtype: object"
      ]
     },
     "execution_count": 77,
     "metadata": {},
     "output_type": "execute_result"
    }
   ],
   "source": [
    "customers_concat['order_purchase_timestamp'].describe()"
   ]
  },
  {
   "cell_type": "code",
   "execution_count": 54,
   "metadata": {},
   "outputs": [],
   "source": [
    "def compute_rfm(customers_concat,last_date):\n",
    "    # Filtrer sur commandes jusqu'à une certaine date\n",
    "    customers_concat_extract=customers_concat[customers_concat['order_purchase_timestamp']<last_date]\n",
    "    # Calculer le nombre de commandes par client:\n",
    "    commandes_par_client=customers_concat_extract.groupby('customer_unique_id')['order_id'].nunique()\n",
    "    # Calculer le montant moyen par client:\n",
    "    montant_par_commande=customers_concat_extract.groupby(['customer_unique_id','order_id'])['payment_value'].mean()\n",
    "    montant_par_client=montant_par_commande.groupby('customer_unique_id').sum()\n",
    "    # Calculer récense\n",
    "    customers_concat_extract.loc[:,'order_purchase_timestamp']=pd.to_datetime(customers_concat_extract['order_purchase_timestamp'])\n",
    "    recense_par_client=customers_concat_extract.groupby('customer_unique_id')['order_purchase_timestamp'].max()\n",
    "    #Transformer récense en un int correspondant au nombre de jours depuis la fin de la période étudiée\n",
    "    recense_par_client=(pd.to_datetime(\"2019-01-01 00:00:00\")-recense_par_client).round('d')\n",
    "    recense_par_client=recense_par_client.astype('int64')/60/60/24/1000000000\n",
    "    # Concatener les 3 indicateurs\n",
    "    if ((montant_par_client.index==commandes_par_client.index).all())&((montant_par_client.index==recense_par_client.index).all()):\n",
    "        rfm=pd.concat([montant_par_client,commandes_par_client,recense_par_client],axis=1)\n",
    "    else:\n",
    "        raise IndexError('Indexes not aligned')\n",
    "    return rfm\n"
   ]
  },
  {
   "cell_type": "code",
   "execution_count": 56,
   "metadata": {},
   "outputs": [
    {
     "data": {
      "text/html": [
       "<div>\n",
       "<style scoped>\n",
       "    .dataframe tbody tr th:only-of-type {\n",
       "        vertical-align: middle;\n",
       "    }\n",
       "\n",
       "    .dataframe tbody tr th {\n",
       "        vertical-align: top;\n",
       "    }\n",
       "\n",
       "    .dataframe thead th {\n",
       "        text-align: right;\n",
       "    }\n",
       "</style>\n",
       "<table border=\"1\" class=\"dataframe\">\n",
       "  <thead>\n",
       "    <tr style=\"text-align: right;\">\n",
       "      <th></th>\n",
       "      <th>payment_value</th>\n",
       "      <th>order_id</th>\n",
       "      <th>order_purchase_timestamp</th>\n",
       "    </tr>\n",
       "    <tr>\n",
       "      <th>customer_unique_id</th>\n",
       "      <th></th>\n",
       "      <th></th>\n",
       "      <th></th>\n",
       "    </tr>\n",
       "  </thead>\n",
       "  <tbody>\n",
       "    <tr>\n",
       "      <th>0032c76b20340da25249092a268ce66c</th>\n",
       "      <td>144.940</td>\n",
       "      <td>1</td>\n",
       "      <td>817.0</td>\n",
       "    </tr>\n",
       "    <tr>\n",
       "      <th>009b0127b727ab0ba422f6d9604487c7</th>\n",
       "      <td>40.950</td>\n",
       "      <td>1</td>\n",
       "      <td>839.0</td>\n",
       "    </tr>\n",
       "    <tr>\n",
       "      <th>00f0b70fdcb8a6e1671b52a2472bd41f</th>\n",
       "      <td>116.990</td>\n",
       "      <td>1</td>\n",
       "      <td>818.0</td>\n",
       "    </tr>\n",
       "    <tr>\n",
       "      <th>01f156677184504063bd19739f924af1</th>\n",
       "      <td>784.800</td>\n",
       "      <td>1</td>\n",
       "      <td>812.0</td>\n",
       "    </tr>\n",
       "    <tr>\n",
       "      <th>0313291a6f4f16df04dcf819d88c38ef</th>\n",
       "      <td>112.780</td>\n",
       "      <td>1</td>\n",
       "      <td>813.0</td>\n",
       "    </tr>\n",
       "    <tr>\n",
       "      <th>...</th>\n",
       "      <td>...</td>\n",
       "      <td>...</td>\n",
       "      <td>...</td>\n",
       "    </tr>\n",
       "    <tr>\n",
       "      <th>ff39ae410be7f9b3a2457c546c6f67de</th>\n",
       "      <td>49.275</td>\n",
       "      <td>1</td>\n",
       "      <td>817.0</td>\n",
       "    </tr>\n",
       "    <tr>\n",
       "      <th>ff68ad2883e793597f1c343dd6505f5d</th>\n",
       "      <td>534.980</td>\n",
       "      <td>1</td>\n",
       "      <td>817.0</td>\n",
       "    </tr>\n",
       "    <tr>\n",
       "      <th>ff822e5e1322cef6c211ad8a0591999e</th>\n",
       "      <td>30.420</td>\n",
       "      <td>1</td>\n",
       "      <td>814.0</td>\n",
       "    </tr>\n",
       "    <tr>\n",
       "      <th>ff8557b296729eaa30f078d974c86812</th>\n",
       "      <td>98.830</td>\n",
       "      <td>1</td>\n",
       "      <td>813.0</td>\n",
       "    </tr>\n",
       "    <tr>\n",
       "      <th>ffb973f2bb1c0cb807a99341a9b20dcd</th>\n",
       "      <td>109.020</td>\n",
       "      <td>1</td>\n",
       "      <td>813.0</td>\n",
       "    </tr>\n",
       "  </tbody>\n",
       "</table>\n",
       "<p>326 rows × 3 columns</p>\n",
       "</div>"
      ],
      "text/plain": [
       "                                  payment_value  order_id  \\\n",
       "customer_unique_id                                          \n",
       "0032c76b20340da25249092a268ce66c        144.940         1   \n",
       "009b0127b727ab0ba422f6d9604487c7         40.950         1   \n",
       "00f0b70fdcb8a6e1671b52a2472bd41f        116.990         1   \n",
       "01f156677184504063bd19739f924af1        784.800         1   \n",
       "0313291a6f4f16df04dcf819d88c38ef        112.780         1   \n",
       "...                                         ...       ...   \n",
       "ff39ae410be7f9b3a2457c546c6f67de         49.275         1   \n",
       "ff68ad2883e793597f1c343dd6505f5d        534.980         1   \n",
       "ff822e5e1322cef6c211ad8a0591999e         30.420         1   \n",
       "ff8557b296729eaa30f078d974c86812         98.830         1   \n",
       "ffb973f2bb1c0cb807a99341a9b20dcd        109.020         1   \n",
       "\n",
       "                                  order_purchase_timestamp  \n",
       "customer_unique_id                                          \n",
       "0032c76b20340da25249092a268ce66c                     817.0  \n",
       "009b0127b727ab0ba422f6d9604487c7                     839.0  \n",
       "00f0b70fdcb8a6e1671b52a2472bd41f                     818.0  \n",
       "01f156677184504063bd19739f924af1                     812.0  \n",
       "0313291a6f4f16df04dcf819d88c38ef                     813.0  \n",
       "...                                                    ...  \n",
       "ff39ae410be7f9b3a2457c546c6f67de                     817.0  \n",
       "ff68ad2883e793597f1c343dd6505f5d                     817.0  \n",
       "ff822e5e1322cef6c211ad8a0591999e                     814.0  \n",
       "ff8557b296729eaa30f078d974c86812                     813.0  \n",
       "ffb973f2bb1c0cb807a99341a9b20dcd                     813.0  \n",
       "\n",
       "[326 rows x 3 columns]"
      ]
     },
     "execution_count": 56,
     "metadata": {},
     "output_type": "execute_result"
    }
   ],
   "source": [
    "compute_rfm(customers_concat,\"2017-01-01\")"
   ]
  },
  {
   "cell_type": "markdown",
   "metadata": {},
   "source": [
    "Le cas idéal serait de pouvoir entraîner le modèle avec un maximum d'historique, donc d'avoir la date initiale au plus proche de la dernière date où des commandes ont été effectuées en nombre suffisant (ie août 2018)"
   ]
  },
  {
   "cell_type": "code",
   "execution_count": 79,
   "metadata": {},
   "outputs": [
    {
     "data": {
      "text/html": [
       "<div>\n",
       "<style scoped>\n",
       "    .dataframe tbody tr th:only-of-type {\n",
       "        vertical-align: middle;\n",
       "    }\n",
       "\n",
       "    .dataframe tbody tr th {\n",
       "        vertical-align: top;\n",
       "    }\n",
       "\n",
       "    .dataframe thead th {\n",
       "        text-align: right;\n",
       "    }\n",
       "</style>\n",
       "<table border=\"1\" class=\"dataframe\">\n",
       "  <thead>\n",
       "    <tr style=\"text-align: right;\">\n",
       "      <th></th>\n",
       "      <th>ARI scores</th>\n",
       "    </tr>\n",
       "  </thead>\n",
       "  <tbody>\n",
       "    <tr>\n",
       "      <th>2018-06-16</th>\n",
       "      <td>0.954248</td>\n",
       "    </tr>\n",
       "    <tr>\n",
       "      <th>2018-07-01</th>\n",
       "      <td>0.919492</td>\n",
       "    </tr>\n",
       "    <tr>\n",
       "      <th>2018-07-16</th>\n",
       "      <td>0.900400</td>\n",
       "    </tr>\n",
       "    <tr>\n",
       "      <th>2018-07-31</th>\n",
       "      <td>0.861904</td>\n",
       "    </tr>\n",
       "    <tr>\n",
       "      <th>2018-08-15</th>\n",
       "      <td>0.629145</td>\n",
       "    </tr>\n",
       "    <tr>\n",
       "      <th>2018-08-30</th>\n",
       "      <td>0.593269</td>\n",
       "    </tr>\n",
       "    <tr>\n",
       "      <th>2018-09-14</th>\n",
       "      <td>0.592670</td>\n",
       "    </tr>\n",
       "    <tr>\n",
       "      <th>2018-09-29</th>\n",
       "      <td>0.592681</td>\n",
       "    </tr>\n",
       "    <tr>\n",
       "      <th>2018-10-14</th>\n",
       "      <td>0.593270</td>\n",
       "    </tr>\n",
       "  </tbody>\n",
       "</table>\n",
       "</div>"
      ],
      "text/plain": [
       "            ARI scores\n",
       "2018-06-16    0.954248\n",
       "2018-07-01    0.919492\n",
       "2018-07-16    0.900400\n",
       "2018-07-31    0.861904\n",
       "2018-08-15    0.629145\n",
       "2018-08-30    0.593269\n",
       "2018-09-14    0.592670\n",
       "2018-09-29    0.592681\n",
       "2018-10-14    0.593270"
      ]
     },
     "execution_count": 79,
     "metadata": {},
     "output_type": "execute_result"
    }
   ],
   "source": [
    "model = Pipeline([('scaler', StandardScaler()), ('estimator', KMeans(n_init=10,n_clusters=4))])\n",
    "# Modèle initial fait avec les données antérieures au 01/01/2017 :\n",
    "model_0 = Pipeline([('scaler', StandardScaler()), ('estimator', KMeans(n_init=10,n_clusters=4))])\n",
    "date_0='2018-06-01'\n",
    "model_0.fit(compute_rfm(customers_concat,date_0))\n",
    "\n",
    "#Les prédiction suivantes seront faites tous les 15 jours :\n",
    "dates=[pd.to_datetime(date_0)+pd.Timedelta(days=15*i) for i in range(1,10)]\n",
    "\n",
    "# Modèles succesifs en ajoutant clients avec récense supérieure\n",
    "rand_scores={}\n",
    "for last_date in dates :\n",
    "    X_extract=compute_rfm(customers_concat,last_date)\n",
    "    pred_0=model_0.predict(X_extract)\n",
    "    pred=model.fit_predict(X_extract)\n",
    "    rand_scores[last_date]=adjusted_rand_score(pred_0,pred)\n",
    "rand_scores=pd.DataFrame.from_dict(rand_scores,orient='index',columns=['ARI scores'])\n",
    "rand_scores"
   ]
  },
  {
   "cell_type": "code",
   "execution_count": 81,
   "metadata": {},
   "outputs": [
    {
     "data": {
      "image/png": "[encoded data removed]",
      "text/plain": [
       "<Figure size 1500x500 with 1 Axes>"
      ]
     },
     "metadata": {},
     "output_type": "display_data"
    }
   ],
   "source": [
    "plt.figure(figsize=(15,5))\n",
    "sns.lineplot(rand_scores)\n",
    "plt.title(\"ARI scores par période d'entraînement\")\n",
    "plt.show()"
   ]
  },
  {
   "cell_type": "markdown",
   "metadata": {},
   "source": [
    "Avec un modèle entraîné avec 2.5 ans de données, un nouvel entraînement sera nécessaire au bout de 2 mois."
   ]
  }
 ],
 "metadata": {
  "kernelspec": {
   "display_name": "projet5-Oqm1-dy7-py3.11",
   "language": "python",
   "name": "python3"
  },
  "language_info": {
   "codemirror_mode": {
    "name": "ipython",
    "version": 3
   },
   "file_extension": ".py",
   "mimetype": "text/x-python",
   "name": "python",
   "nbconvert_exporter": "python",
   "pygments_lexer": "ipython3",
   "version": "3.11.3"
  }
 },
 "nbformat": 4,
 "nbformat_minor": 2
}
